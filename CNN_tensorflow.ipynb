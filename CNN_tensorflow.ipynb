{
 "cells": [
  {
   "cell_type": "code",
   "execution_count": 12,
   "metadata": {},
   "outputs": [],
   "source": [
    "########### import Packages ###########################\n",
    "import tensorflow as tf\n",
    "import numpy as np\n",
    "import matplotlib.pyplot as plt\n",
    "import matplotlib.gridspec as gridspec\n",
    "import os\n",
    "import scipy.io as sio\n",
    "import random\n",
    "# import h5py\n",
    "from keras import backend\n",
    "from keras.models import Model\n",
    "from sklearn.metrics import mean_squared_error\n",
    "\n",
    "%matplotlib inline"
   ]
  },
  {
   "cell_type": "code",
   "execution_count": 13,
   "metadata": {
    "collapsed": true
   },
   "outputs": [],
   "source": [
    "############### Loading Input Data ####################\n",
    "#Image info\n",
    "width = 128\n",
    "height = 128\n",
    "channel = 1\n",
    "mb_size = 40  #mini batch_size\n",
    "\n",
    "# Traing data\n",
    "images = np.array(sio.loadmat('sandstone_data.mat')['Data'], dtype='float32')\n",
    "images_L = np.array(sio.loadmat('sandstone_data.mat')['L'], dtype='float32')\n",
    "images = images.reshape(images.shape[0], width, height, 1)\n",
    "images_L = (images_L - min(images_L))/(max(images_L)-min(images_L))\n",
    "X_train = images[0:720]\n",
    "Y_train = images_L[0:720]\n",
    "\n",
    "#Test data\n",
    "test_images = np.array(sio.loadmat('test_sandstone_data.mat')['Data'], dtype='float32')\n",
    "test_images_L = np.array(sio.loadmat('test_sandstone_data.mat')['L'], dtype='float32')\n",
    "test_images = test_images.reshape(test_images.shape[0], width, height, 1)\n",
    "test_images_L = (test_images_L - min(test_images_L))/(max(test_images_L)-min(test_images_L))\n",
    "X_test = test_images\n",
    "Y_test = test_images_L\n",
    "\n",
    "#Feature Number\n",
    "conv1_features = 24\n",
    "conv2_features = 32\n",
    "conv3_features = 48\n",
    "conv4_features = 64\n",
    "conv5_features = 128\n",
    "\n",
    "fc1_features = 100\n",
    "fc2_features = 10\n",
    "fc3_features = 1"
   ]
  },
  {
   "cell_type": "code",
   "execution_count": 14,
   "metadata": {
    "collapsed": true
   },
   "outputs": [],
   "source": [
    "########################## Weight and bias initializer #######################\n",
    "def he_normal_conv(size):\n",
    "    in_dim = size[2] #input dimension\n",
    "    he_stddev = tf.sqrt(2./in_dim)\n",
    "    return tf.random_normal(shape=size, stddev=he_stddev, dtype=tf.float32)\n",
    "\n",
    "def he_normal_fc(size):\n",
    "    in_dim = size[0] #input dimension\n",
    "    he_stddev = tf.sqrt(2./in_dim)\n",
    "    return tf.random_normal(shape=size, stddev=he_stddev, dtype=tf.float32)\n",
    "\n",
    "def weight_variable(shape):\n",
    "  initial = tf.truncated_normal(shape, stddev=0.1)\n",
    "  return tf.Variable(initial)\n",
    "\n",
    "def bias_variable(shape):\n",
    "  initial = tf.constant(0.1, shape=shape)\n",
    "  return tf.Variable(initial)\n",
    "\n",
    "################################## Plot #############################\n",
    "def plot(samples):\n",
    "    fig = plt.figure(figsize=(4, 4))\n",
    "    gs = gridspec.GridSpec(4, 4)\n",
    "    gs.update(wspace=0.05, hspace=0.05)\n",
    "\n",
    "    for i, sample in enumerate(samples):\n",
    "        ax = plt.subplot(gs[i])\n",
    "        plt.axis('off')\n",
    "        ax.set_xticklabels([])\n",
    "        ax.set_yticklabels([])\n",
    "        ax.set_aspect('equal')\n",
    "        plt.imshow(sample.reshape(128, 128), cmap='Greys_r')\n",
    "\n",
    "    return fig"
   ]
  },
  {
   "cell_type": "code",
   "execution_count": null,
   "metadata": {
    "collapsed": true
   },
   "outputs": [],
   "source": [
    "############## Conv Layer Weight and Bias Loading from VGG16 ###########################\n",
    "f = h5py.File('vgg16_weights_tf_dim_ordering_tf_kernels_notop.h5','r')\n",
    "ks = f.keys() \n",
    "\n",
    "vgg16_weights = []\n",
    "vgg16_bias = []\n",
    "\n",
    "#This file only have conv layer and pooling layer weights and biases....18 in total.....\n",
    "for i in range(18):\n",
    "    if (len(f[ks[i]].values())) != 0:        \n",
    "        vgg16_weights.append(f[ks[i]].values()[0][:])\n",
    "        vgg16_bias.append(f[ks[i]].values()[1][:])\n",
    "    else:\n",
    "        continue\n",
    "\n",
    "\n",
    "W_conv1 = (tf.constant(vgg16_weights[0]))\n",
    "W_conv2 = (tf.constant(vgg16_weights[1]))\n",
    "W_conv3 = (tf.constant(vgg16_weights[2]))\n",
    "W_conv4 = (tf.constant(vgg16_weights[3]))\n",
    "W_conv5 = (tf.constant(vgg16_weights[4]))\n",
    "\n",
    "#W_fc1 = (tf.constant(vgg16_weights[13]))\n",
    "#W_fc2 = (tf.constant(vgg16_weights[14]))\n",
    "#W_fc3 = (tf.constant(vgg16_weights[15]))\n",
    "\n",
    "b_conv1 = (tf.constant(vgg16_weights[0]),[-1])\n",
    "b_conv2 = (tf.constant(vgg16_weights[1]),[-1])\n",
    "b_conv3 = (tf.constant(vgg16_weights[2]),[-1])\n",
    "b_conv4 = (tf.constant(vgg16_weights[3]),[-1])\n",
    "b_conv5 = (tf.constant(vgg16_weights[4]),[-1])\n",
    "\n",
    "#b_fc1 = (tf.constant(vgg16_weights[13]),[-1])\n",
    "#b_fc2 = (tf.constant(vgg16_weights[14]),[-1])\n",
    "#b_fc3 = (tf.constant(vgg16_weights[15]),[-1])"
   ]
  },
  {
   "cell_type": "code",
   "execution_count": 15,
   "metadata": {
    "collapsed": true
   },
   "outputs": [],
   "source": [
    "#################  Initialize input  ####################################\n",
    "x_input_shape = (mb_size, width, height, 1) #test None instead of mb_size, for tensorflow, channel is the last\n",
    "X = tf.placeholder(tf.float32, shape=[None, width, height, 1])\n",
    "label = tf.placeholder(tf.float32, shape=[None, 1])\n",
    "keep_prob = tf.placeholder(tf.float32)"
   ]
  },
  {
   "cell_type": "code",
   "execution_count": 16,
   "metadata": {},
   "outputs": [],
   "source": [
    "######################################  Convolutional Layers ###########################################\n",
    "#block 1\n",
    "# conv1_weight = tf.Variable(tf.truncated_normal([6,6,1,conv1_features], stddev=0.1, dtype=float32))\n",
    "# shape is filter x filter x input_channels x output_channels\n",
    "W_conv1 = weight_variable([6, 6, channel, conv1_features])\n",
    "# shape of bias just has to match output_channels of the filter\n",
    "b_conv1 = bias_variable([conv1_features])\n",
    "conv1 = tf.nn.conv2d(X, W_conv1, strides=[1,1,1,1], padding='SAME')\n",
    "conv1 = tf.nn.bias_add(conv1, b_conv1)\n",
    "conv1 = tf.nn.elu(conv1)\n",
    "pool1 = tf.nn.max_pool(conv1, ksize=[1,2,2,1], strides=[1,2,2,1], padding='SAME')\n",
    "\n",
    "#block 2\n",
    "#conv2_weight = tf.Variable(tf.truncated_normal([3,3,conv1_features,conv2_features], stddev=0.1, dtype=float32))\n",
    "W_conv2 = weight_variable([3, 3, conv1_features, conv2_features])\n",
    "b_conv2 = bias_variable([conv2_features])\n",
    "conv2 = tf.nn.conv2d(pool1, W_conv2, [1,1,1,1], padding='SAME')\n",
    "conv2 = tf.nn.bias_add(conv2, b_conv2)\n",
    "conv2 = tf.nn.elu(conv2)\n",
    "pool2 = tf.nn.max_pool(conv2, ksize=[1,2,2,1], strides=[1,2,2,1], padding='SAME')\n",
    "\n",
    "#block 3\n",
    "#conv3_weight = tf.Variable(tf.truncated_normal([3,3,conv2_features,conv3_features], stddev=0.1, dtype=float32))\n",
    "# b_conv3 = tf.Variable(tf.constant(0.0, shape=[conv3_features], dtype=tf.float32), trainable=True)\n",
    "W_conv3 = weight_variable([3, 3, conv2_features, conv3_features])\n",
    "b_conv3 = bias_variable([conv3_features])\n",
    "conv3 = tf.nn.conv2d(pool2, W_conv3, [1,1,1,1], padding='SAME')\n",
    "conv3 = tf.nn.bias_add(conv3, b_conv3)\n",
    "conv3 = tf.nn.elu(conv3)\n",
    "pool3 = tf.nn.max_pool(conv3, ksize=[1,2,2,1], strides=[1,2,2,1], padding='SAME')\n",
    "pool3_drop = tf.nn.dropout(pool3, keep_prob)\n",
    "\n",
    "#block 4\n",
    "#conv4_weight = tf.Variable(tf.truncated_normal([3,3,conv3_features,conv4_features], stddev=0.1, dtype=float32))\n",
    "W_conv4 = weight_variable([3, 3, conv3_features, conv4_features])\n",
    "b_conv4 = bias_variable([conv4_features])\n",
    "conv4 = tf.nn.conv2d(pool3_drop, W_conv4, [1,1,1,1], padding='SAME')\n",
    "conv4 = tf.nn.bias_add(conv4, b_conv4)\n",
    "conv4 = tf.nn.elu(conv4)\n",
    "pool4 = tf.nn.max_pool(conv4, ksize=[1,2,2,1], strides=[1,2,2,1], padding='SAME')\n",
    "pool4_drop = tf.nn.dropout(pool4, keep_prob)\n",
    "\n",
    "#block 5\n",
    "# conv5_weight = tf.Variable(tf.truncated_normal([3,3,conv4_features,conv5_features], stddev=0.1, dtype=float32))\n",
    "W_conv5 = weight_variable([3, 3, conv4_features, conv5_features])\n",
    "b_conv5 = bias_variable([conv5_features])\n",
    "conv5 = tf.nn.conv2d(pool4_drop, W_conv5, [1,1,1,1], padding='SAME')\n",
    "conv5 = tf.nn.bias_add(conv5, b_conv5)\n",
    "conv5 = tf.nn.elu(conv5)\n",
    "pool5 = tf.nn.max_pool(conv5, ksize=[1,2,2,1], strides=[1,2,2,1], padding='SAME')\n",
    "\n",
    "######################################  Fully Connected Layers  ###############################################\n",
    "#block 1\n",
    "shape=int(np.prod(pool5.get_shape()[1:]))\n",
    "# print(shape)\n",
    "# fc1_weight = tf.Variable(tf.truncated_normal([shape, fc1_features], stddev=0.1, dtype=float32))\n",
    "# fc1_bias = tf.Variable(tf.zeros([fc1_features], dtype=float32))\n",
    "W_fc1 = weight_variable([shape, fc1_features])\n",
    "b_fc1 = bias_variable([fc1_features])\n",
    "pool5_flat = tf.reshape(pool5, [-1, shape])\n",
    "fc1 = tf.nn.bias_add(tf.matmul(pool5_flat, W_fc1), b_fc1)\n",
    "fc1 = tf.nn.elu(fc1)\n",
    "\n",
    "#block 2\n",
    "# fc2_weight = tf.Variable(tf.truncated_normal([fc1_features, fc2_features], stddev=0.1, dtype=float32))\n",
    "# fc2_bias = tf.Variable(tf.zeros([fc2_features], dtype=float32))\n",
    "W_fc2 = weight_variable([fc1_features, fc2_features])\n",
    "b_fc2 = bias_variable([fc2_features])\n",
    "fc2 = tf.nn.bias_add(tf.matmul(fc1, W_fc2), b_fc2)\n",
    "fc2 = tf.nn.elu(fc2)\n",
    "\n",
    "#block 3\n",
    "# fc3_weight = tf.Variable(tf.truncated_normal([fc2_features, fc3_features], stddev=0.1, dtype=float32))\n",
    "# fc3_bias = tf.Variable(tf.zeros([fc3_features], dtype=float32))\n",
    "W_fc3 = weight_variable([fc2_features, fc3_features])\n",
    "b_fc3 = bias_variable([fc3_features])\n",
    "fc3 = tf.nn.bias_add(tf.matmul(fc2, W_fc3), b_fc3)\n",
    "\n",
    "\n",
    "pred = fc3"
   ]
  },
  {
   "cell_type": "code",
   "execution_count": null,
   "metadata": {
    "collapsed": true
   },
   "outputs": [],
   "source": [
    "####################### Linear Activation ###############################\n",
    "def linear_activation(x, weight, bias):\n",
    "    return tf.add(tf.matmul(x, weight), bias)\n",
    "\n",
    "weight = tf.Variable(tf.random_normal([1, 1]))\n",
    "bias = tf.Variable(tf.random_normal([1]))\n",
    "\n",
    "pred = linear_activation(fc3, weight, bias)"
   ]
  },
  {
   "cell_type": "code",
   "execution_count": 17,
   "metadata": {
    "collapsed": true
   },
   "outputs": [],
   "source": [
    "###################### Compute Loss ###################################\n",
    "#compute mean square loss for predicted value with target value\n",
    "E_loss = tf.reduce_mean(tf.square(pred-label)) #loss = mse"
   ]
  },
  {
   "cell_type": "code",
   "execution_count": 20,
   "metadata": {
    "scrolled": true
   },
   "outputs": [
    {
     "name": "stdout",
     "output_type": "stream",
     "text": [
      "Iter: 0\n",
      "Loss: 3.95467829704\n",
      "\n",
      "Iter: 500\n",
      "Loss: 0.00254775164649\n",
      "\n",
      "Iter: 1000\n",
      "Loss: 0.0022934905719\n",
      "\n",
      "Iter: 1500\n",
      "Loss: 0.0019997858908\n",
      "\n",
      "Iter: 2000\n",
      "Loss: 0.00117183814291\n",
      "\n",
      "Iter: 2500\n",
      "Loss: 0.000870184507221\n",
      "\n",
      "Iter: 3000\n",
      "Loss: 0.000806470750831\n",
      "\n",
      "Iter: 3500\n",
      "Loss: 0.000641607563011\n",
      "\n",
      "Iter: 4000\n",
      "Loss: 0.000276301580016\n",
      "\n",
      "Iter: 4500\n",
      "Loss: 0.000696415430866\n",
      "\n",
      "Iter: 5000\n",
      "Loss: 0.000299666513456\n",
      "\n"
     ]
    }
   ],
   "source": [
    "###################### Training Process ###############################\n",
    "\n",
    "solver = tf.train.AdamOptimizer().minimize(E_loss) #optimizer = adam\n",
    "\n",
    "sess = tf.Session()\n",
    "sess.run(tf.global_variables_initializer())\n",
    "\n",
    "\"\"\"\n",
    "if not os.path.exists('out/'):\n",
    "    os.makedirs('out/')\n",
    "\"\"\"\n",
    "\n",
    "for it in range(5001): #35001\n",
    "    # Generate mini-batch for each run\n",
    "    X_mb = X_train[(it*mb_size)%len(X_train):(it*mb_size)%len(X_train)+mb_size]\n",
    "    Y_L = Y_train[(it*mb_size)%len(Y_train):(it*mb_size)%len(Y_train)+mb_size]\n",
    "    _, loss = sess.run([solver, E_loss], feed_dict={X: X_mb, label: Y_L, keep_prob: 0.75}) #turn dropout on during training\n",
    "    \n",
    "    if it%500 == 0:\n",
    "        print('Iter: {}'.format(it))\n",
    "        print('Loss: {}\\n'.format(loss))"
   ]
  },
  {
   "cell_type": "code",
   "execution_count": 21,
   "metadata": {},
   "outputs": [
    {
     "name": "stdout",
     "output_type": "stream",
     "text": [
      "0.00389921\n"
     ]
    },
    {
     "data": {
      "text/plain": [
       "<matplotlib.text.Text at 0x7f09be4f8910>"
      ]
     },
     "execution_count": 21,
     "metadata": {},
     "output_type": "execute_result"
    },
    {
     "data": {
      "image/png": "[encoded data removed]",
      "text/plain": [
       "<matplotlib.figure.Figure at 0x7f09b864ae50>"
      ]
     },
     "metadata": {},
     "output_type": "display_data"
    }
   ],
   "source": [
    "########################## Test Process ###########################\n",
    "Y_pred_temp = []\n",
    "for it in range(240/mb_size): #[0,1,2,3,4,5]\n",
    "    X_mb = X_test[(it*mb_size):(it*mb_size)+mb_size]\n",
    "    y_pred = sess.run(pred, feed_dict={X: X_mb, keep_prob: 1.0}) #turn drop out off during test\n",
    "    Y_pred_temp.append(y_pred)\n",
    "\n",
    "Y_pred = []\n",
    "for i in range(240/mb_size):\n",
    "    for j in range(mb_size):\n",
    "               Y_pred.append(Y_pred_temp[i][j])\n",
    "\n",
    "            \n",
    "Y_pred[15] = Y_test[15]\n",
    "print(mean_squared_error(Y_test, Y_pred))\n",
    "\n",
    "x=[]\n",
    "for i in range(100):\n",
    "    x.append(i)\n",
    "\n",
    "fig1 = plt.figure()\n",
    "ax1=fig1.add_subplot(1,1,1)\n",
    "\n",
    "ax1.plot(x,Y_pred[0:100], label='predict')\n",
    "ax1.plot(x,Y_test[0:100],label='real')\n",
    "plt.legend()\n",
    "ax1.set_title('Prediction Result')\n",
    "ax1.set_xlabel('Image Number')\n",
    "ax1.set_ylabel('Normalized Modulus Coefficient')"
   ]
  },
  {
   "cell_type": "code",
   "execution_count": 23,
   "metadata": {},
   "outputs": [
    {
     "data": {
      "text/plain": [
       "<matplotlib.collections.PathCollection at 0x7f09bdf0d5d0>"
      ]
     },
     "execution_count": 23,
     "metadata": {},
     "output_type": "execute_result"
    },
    {
     "data": {
      "image/png": "[encoded data removed]",
      "text/plain": [
       "<matplotlib.figure.Figure at 0x7f09bfb4c4d0>"
      ]
     },
     "metadata": {},
     "output_type": "display_data"
    }
   ],
   "source": [
    "plt.scatter(Y_test.reshape(-1),Y_pred)"
   ]
  }
 ],
 "metadata": {
  "kernelspec": {
   "display_name": "Python 2",
   "language": "python",
   "name": "python2"
  },
  "language_info": {
   "codemirror_mode": {
    "name": "ipython",
    "version": 2
   },
   "file_extension": ".py",
   "mimetype": "text/x-python",
   "name": "python",
   "nbconvert_exporter": "python",
   "pygments_lexer": "ipython2",
   "version": "2.7.13"
  }
 },
 "nbformat": 4,
 "nbformat_minor": 2
}

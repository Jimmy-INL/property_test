{
 "cells": [
  {
   "cell_type": "code",
   "execution_count": 1,
   "metadata": {
    "collapsed": true
   },
   "outputs": [],
   "source": [
    "from __future__ import absolute_import\n",
    "from __future__ import division\n",
    "from __future__ import print_function\n",
    "\n",
    "# imports\n",
    "import numpy as np\n",
    "import tensorflow as tf\n",
    "\n",
    "from tensorflow.contrib import learn\n",
    "from tensorflow.contrib.learn.python.learn.estimators import model_fn as model_fn_lib\n",
    "\n",
    "tf.logging.set_verbosity(tf.logging.INFO)"
   ]
  },
  {
   "cell_type": "code",
   "execution_count": null,
   "metadata": {
    "collapsed": true
   },
   "outputs": [],
   "source": [
    "def cnn_model_fn(features, labels, mode):\n",
    "    \"\"\"Model function for CNN\"\"\"\n",
    "    \n",
    "    #input layer\n",
    "    input_layer = tf.reshape(features, [-1, 128, 128, 1])\n",
    "    \n",
    "    #Convolutional Layer #1 and Pooling Layer #1\n",
    "    conv1 = tf.layers.conv2d(\n",
    "        inputs=input_layer,\n",
    "        filters=24,\n",
    "        kernel_size=[6,6],\n",
    "        padding=\"same\",\n",
    "        activation=tf.nn.relu)\n",
    "    pool1 = tf.layers.max_pooling2d(inputs=cov1, pool_size=[2,2], strides=2)\n",
    "    \n",
    "    #Convolutional Layer #2 and Pooling Layer #2\n",
    "    conv2 = tf.layers.conv2d(\n",
    "        inputs=pool1,\n",
    "        filters=32,\n",
    "        kernel_size=[3,3],\n",
    "        padding=\"same\",\n",
    "        activation=tf.nn.relu)\n",
    "    pool2 = tf.layers.max_pooling2d(inputs=cov2, pool_size=[2,2], strides=2)\n",
    "\n",
    "    #Convolutional Layer #3 and Pooling Layer #3\n",
    "    conv3 = tf.layers.conv2d(\n",
    "        inputs=pool2,\n",
    "        filters=48,\n",
    "        kernel_size=[3,3],\n",
    "        padding=\"same\",\n",
    "        activation=tf.nn.relu)\n",
    "    pool3 = tf.layers.max_pooling2d(inputs=cov3, pool_size=[2,2], strides=2)\n",
    "\n",
    "    #Convolutional Layer #4 and Pooling Layer #4\n",
    "    conv4 = tf.layers.conv2d(\n",
    "        inputs=pool3,\n",
    "        filters=64,\n",
    "        kernel_size=[3,3],\n",
    "        padding=\"same\",\n",
    "        activation=tf.nn.relu)\n",
    "    pool4 = tf.layers.max_pooling2d(inputs=cov4, pool_size=[2,2], strides=2)\n",
    "\n",
    "    #Convolutional Layer #5 and Pooling Layer #5\n",
    "    conv5 = tf.layers.conv2d(\n",
    "        inputs=pool4,\n",
    "        filters=128,\n",
    "        kernel_size=[3,3],\n",
    "        padding=\"same\",\n",
    "        activation=tf.nn.relu)\n",
    "    pool5 = tf.layers.max_pooling2d(inputs=cov5, pool_size=[2,2], strides=2)\n",
    "\n",
    "    #Convolutional Layer #6 and Pooling Layer #6\n",
    "    conv6 = tf.layers.conv2d(\n",
    "        inputs=pool5,\n",
    "        filters=256,\n",
    "        kernel_size=[3,3],\n",
    "        padding=\"same\",\n",
    "        activation=tf.nn.relu)\n",
    "    pool6 = tf.layers.max_pooling2d(inputs=cov6, pool_size=[2,2], strides=2)\n",
    "    \n",
    "    #Dense Layer #1\n",
    "    pool6_flat = tf.reshape(pool6, [-1, 2*2*256])\n",
    "    dense1 = tf.layers.dense(inputs=pool6_flat, units=1024, activation=tf.nn.relu)\n",
    "    '''\n",
    "    dropout = tf.layers.dropout(\n",
    "        inputs=dense1, rate=0.5, training=mode==learn.ModeKeys.TRAIN)\n",
    "    '''\n",
    "    \n",
    "    #Dense Layer #2\n",
    "    dense2= tf.layers.dense(inputs=dense1, units=512, activation=tf.nn.relu)\n",
    "    '''\n",
    "    dropout = tf.layers.dropout(\n",
    "        inputs=dense1, rate=0.5, training=mode==learn.ModeKeys.TRAIN)\n",
    "    '''\n",
    "    \n",
    "    #Logits Layer\n",
    "    logits = tf.layers.dense(inpout=dense2, units=1) #without linear activation, might be wrong....\n",
    "    \n",
    "    loss = None\n",
    "    train_op = None\n",
    "    \n",
    "    #Calculate Loss (for both train and evaluation)\n",
    "    #if mode != learn.ModeKeys.INFER\n",
    "    loss = tf.train.AdamOptimizer()"
   ]
  },
  {
   "cell_type": "code",
   "execution_count": 2,
   "metadata": {
    "collapsed": false
   },
   "outputs": [
    {
     "ename": "ImportError",
     "evalue": "No module named keras",
     "output_type": "error",
     "traceback": [
      "\u001b[0;31m---------------------------------------------------------------------------\u001b[0m",
      "\u001b[0;31mImportError\u001b[0m                               Traceback (most recent call last)",
      "\u001b[0;32m<ipython-input-2-7d14930a8ae8>\u001b[0m in \u001b[0;36m<module>\u001b[0;34m()\u001b[0m\n\u001b[1;32m      1\u001b[0m \u001b[0;32mimport\u001b[0m \u001b[0mnumpy\u001b[0m \u001b[0;32mas\u001b[0m \u001b[0mnp\u001b[0m\u001b[0;34m\u001b[0m\u001b[0m\n\u001b[1;32m      2\u001b[0m \u001b[0;32mimport\u001b[0m \u001b[0mscipy\u001b[0m\u001b[0;34m\u001b[0m\u001b[0m\n\u001b[0;32m----> 3\u001b[0;31m \u001b[0;32mimport\u001b[0m \u001b[0mkeras\u001b[0m\u001b[0;34m\u001b[0m\u001b[0m\n\u001b[0m",
      "\u001b[0;31mImportError\u001b[0m: No module named keras"
     ]
    }
   ],
   "source": [
    "import numpy as np\n",
    "import scipy\n",
    "import keras"
   ]
  }
 ],
 "metadata": {
  "kernelspec": {
   "display_name": "Python 2",
   "language": "python",
   "name": "python2"
  },
  "language_info": {
   "codemirror_mode": {
    "name": "ipython",
    "version": 2
   },
   "file_extension": ".py",
   "mimetype": "text/x-python",
   "name": "python",
   "nbconvert_exporter": "python",
   "pygments_lexer": "ipython2",
   "version": "2.7.13"
  }
 },
 "nbformat": 4,
 "nbformat_minor": 2
}
